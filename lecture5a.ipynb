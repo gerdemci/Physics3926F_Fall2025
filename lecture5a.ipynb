{
 "cells": [
  {
   "cell_type": "code",
   "execution_count": 3,
   "metadata": {},
   "outputs": [],
   "source": [
    "# Import necessary libraries\n",
    "import numpy as np\n",
    "import scipy.integrate as scint\n",
    "import matplotlib.pyplot as plt"
   ]
  },
  {
   "cell_type": "markdown",
   "metadata": {},
   "source": [
    "# Lecture 5a: Numerical Integration with Python\n",
    "\n",
    "In this lecture, we'll explore three numerical integration methods available in Python:\n",
    "1. **Trapezoidal Rule** (`np.trapz`)\n",
    "2. **Romberg Integration** (`scint.romb`)\n",
    "3. **Adaptive Quadrature** (`scint.quad`)\n"
   ]
  },
  {
   "cell_type": "markdown",
   "metadata": {},
   "source": [
    "## Part 1: Trapezoidal Rule Integration (`np.trapz`)\n",
    "\n",
    "The trapezoidal rule approximates the integral by dividing the area under the curve into trapezoids.\n",
    "\n",
    "### Example: Integrating $f(x) = x^2$ from 0 to 10\n",
    "\n",
    "The analytical solution is:\n",
    "$$\\int_0^{10} x^2 \\, dx = \\frac{x^3}{3}\\bigg|_0^{10} = \\frac{10^3}{3} = 333.\\overline{3}$$"
   ]
  },
  {
   "cell_type": "markdown",
   "metadata": {},
   "source": [
    "### Using Few Points (Lower Accuracy)"
   ]
  },
  {
   "cell_type": "code",
   "execution_count": 4,
   "metadata": {},
   "outputs": [
    {
     "name": "stdout",
     "output_type": "stream",
     "text": [
      "Number of points: 10\n",
      "x values: [0 1 2 3 4 5 6 7 8 9]\n",
      "y values: [ 0  1  4  9 16 25 36 49 64 81]\n",
      "\n",
      "Numerical result: 244.5\n",
      "Analytical result: 333.3333\n",
      "Error: 88.8333\n"
     ]
    }
   ],
   "source": [
    "# Create x values from 0 to 9 (10 points)\n",
    "x = np.arange(0, 10)\n",
    "print(f\"Number of points: {len(x)}\")\n",
    "print(f\"x values: {x}\")\n",
    "\n",
    "# Compute y = x^2\n",
    "y = x**2\n",
    "print(f\"y values: {y}\")\n",
    "\n",
    "# Perform trapezoidal integration\n",
    "int_result = np.trapz(y, x)\n",
    "print(f\"\\nNumerical result: {int_result}\")\n",
    "print(f\"Analytical result: {10**3/3:.4f}\")\n",
    "print(f\"Error: {abs(int_result - 10**3/3):.4f}\")"
   ]
  },
  {
   "cell_type": "markdown",
   "metadata": {},
   "source": [
    "### Using More Points (Higher Accuracy)\n",
    "\n",
    "Increasing the number of points improves accuracy by better approximating the curve."
   ]
  },
  {
   "cell_type": "code",
   "execution_count": 5,
   "metadata": {},
   "outputs": [
    {
     "name": "stdout",
     "output_type": "stream",
     "text": [
      "Number of points: 100\n",
      "\n",
      "Numerical result: 333.35033840084344\n",
      "Analytical result: 333.3333\n",
      "Error: 0.017005\n",
      "\n",
      "Accuracy improved significantly!\n"
     ]
    }
   ],
   "source": [
    "# Create 100 evenly spaced x values from 0 to 10\n",
    "x = np.linspace(0, 10, 100)\n",
    "print(f\"Number of points: {len(x)}\")\n",
    "\n",
    "# Compute y = x^2\n",
    "y = x**2\n",
    "\n",
    "# Perform trapezoidal integration\n",
    "int_result = np.trapz(y, x)\n",
    "print(f\"\\nNumerical result: {int_result}\")\n",
    "print(f\"Analytical result: {10**3/3:.4f}\")\n",
    "print(f\"Error: {abs(int_result - 10**3/3):.6f}\")\n",
    "print(f\"\\nAccuracy improved significantly!\")"
   ]
  },
  {
   "cell_type": "markdown",
   "metadata": {},
   "source": [
    "## Part 2: Romberg Integration (`scint.romb`)\n",
    "\n",
    "Romberg integration is a more sophisticated method that uses Richardson extrapolation to achieve higher accuracy.\n",
    "\n",
    "### Example: Integrating $f(x) = x^2$ from 0 to 10"
   ]
  },
  {
   "cell_type": "code",
   "execution_count": 14,
   "metadata": {},
   "outputs": [
    {
     "name": "stdout",
     "output_type": "stream",
     "text": [
      "Number of points: 65 (which equals 2^6 + 1)\n",
      "Spacing (dx): 0.156250\n",
      "\n",
      "Numerical result: 333.3333333333333\n",
      "Analytical result: 333.3333333333\n",
      "Error: 0.0000000000e+00\n",
      "\n",
      "Romberg integration is very accurate!\n"
     ]
    }
   ],
   "source": [
    "# Create 65 evenly spaced points (2^6 + 1 = 65)\n",
    "x = np.linspace(0, 10, 65)\n",
    "print(f\"Number of points: {len(x)} (which equals 2^6 + 1)\")\n",
    "\n",
    "# Compute y = x^2\n",
    "y = x**2\n",
    "\n",
    "# Calculate the spacing between points\n",
    "dx = x[1] - x[0]\n",
    "print(f\"Spacing (dx): {dx:.6f}\")\n",
    "\n",
    "# Perform Romberg integration\n",
    "int_result = scint.romb(y, dx)\n",
    "print(f\"\\nNumerical result: {int_result}\")\n",
    "print(f\"Analytical result: {10**3/3:.10f}\")\n",
    "print(f\"Error: {abs(int_result - 10**3/3):.10e}\")\n",
    "print(f\"\\nRomberg integration is very accurate!\")"
   ]
  },
  {
   "cell_type": "markdown",
   "metadata": {},
   "source": [
    "### Comparing Different Numbers of Points for Romberg Integration"
   ]
  },
  {
   "cell_type": "code",
   "execution_count": 7,
   "metadata": {},
   "outputs": [
    {
     "name": "stdout",
     "output_type": "stream",
     "text": [
      "Romberg Integration Accuracy Comparison:\n",
      "\n",
      "Points     Result               Error          \n",
      "---------------------------------------------\n",
      "5          333.3333333333       0.00e+00       \n",
      "9          333.3333333333       0.00e+00       \n",
      "17         333.3333333333       0.00e+00       \n",
      "33         333.3333333333       0.00e+00       \n",
      "65         333.3333333333       0.00e+00       \n",
      "129        333.3333333333       0.00e+00       \n"
     ]
    }
   ],
   "source": [
    "# Test different numbers of points (all of form 2^k + 1)\n",
    "point_counts = [5, 9, 17, 33, 65, 129]\n",
    "analytical = 10**3/3\n",
    "\n",
    "print(\"Romberg Integration Accuracy Comparison:\\n\")\n",
    "print(f\"{'Points':<10} {'Result':<20} {'Error':<15}\")\n",
    "print(\"-\" * 45)\n",
    "\n",
    "for n_points in point_counts:\n",
    "    x = np.linspace(0, 10, n_points)\n",
    "    y = x**2\n",
    "    dx = x[1] - x[0]\n",
    "    result = scint.romb(y, dx)\n",
    "    error = abs(result - analytical)\n",
    "    print(f\"{n_points:<10} {result:<20.10f} {error:<15.2e}\")"
   ]
  },
  {
   "cell_type": "markdown",
   "metadata": {},
   "source": [
    "## Part 3: Adaptive Quadrature (`scint.quad`)\n",
    "\n",
    "`scipy.integrate.quad` is the most versatile integration method. It:\n",
    "- Automatically adapts the sampling to achieve desired accuracy\n",
    "- Works directly with functions (no need to pre-compute arrays)\n",
    "- Can handle infinite limits\n",
    "- Returns both the integral and an error estimate\n",
    "\n",
    "### Example 1: Integrating $f(x) = x^2 + \\sin(x)$ from 1 to 4"
   ]
  },
  {
   "cell_type": "code",
   "execution_count": 8,
   "metadata": {},
   "outputs": [
    {
     "name": "stdout",
     "output_type": "stream",
     "text": [
      "Integration of f(x) = x² + sin(x) from 1 to 4:\n",
      "Result: (22.19394592673175, 2.4640229775143295e-13)\n",
      "\n",
      "Integral value: 22.1939459267\n",
      "Error estimate: 2.46e-13\n"
     ]
    }
   ],
   "source": [
    "# Define the function to integrate\n",
    "def myfunc(x):\n",
    "    \"\"\"Function: f(x) = x^2 + sin(x)\"\"\"\n",
    "    return x**2 + np.sin(x)\n",
    "\n",
    "# Perform integration from 1 to 4\n",
    "result = scint.quad(myfunc, 1, 4)\n",
    "print(\"Integration of f(x) = x² + sin(x) from 1 to 4:\")\n",
    "print(f\"Result: {result}\")\n",
    "print(f\"\\nIntegral value: {result[0]:.10f}\")\n",
    "print(f\"Error estimate: {result[1]:.2e}\")"
   ]
  },
  {
   "cell_type": "markdown",
   "metadata": {},
   "source": [
    "### Example 2: Functions with Parameters\n",
    "\n",
    "Often we need to integrate functions that depend on additional parameters. We can pass these using the `args` parameter."
   ]
  },
  {
   "cell_type": "code",
   "execution_count": 9,
   "metadata": {},
   "outputs": [
    {
     "name": "stdout",
     "output_type": "stream",
     "text": [
      "Integrating f(x) = x² + a*sin(x) from 1 to 4 with different values of 'a':\n",
      "\n"
     ]
    }
   ],
   "source": [
    "# Define a function with an additional parameter\n",
    "def myfunc2(x, a=1):\n",
    "    \"\"\"Function: f(x) = x^2 + a*sin(x)\n",
    "    \n",
    "    Parameters:\n",
    "    x : float or array\n",
    "        Independent variable\n",
    "    a : float\n",
    "        Parameter controlling the amplitude of the sine term\n",
    "    \"\"\"\n",
    "    return x**2 + a * np.sin(x)\n",
    "\n",
    "print(\"Integrating f(x) = x² + a*sin(x) from 1 to 4 with different values of 'a':\\n\")"
   ]
  },
  {
   "cell_type": "code",
   "execution_count": 10,
   "metadata": {},
   "outputs": [
    {
     "name": "stdout",
     "output_type": "stream",
     "text": [
      "With a=1:\n",
      "Numerical integration result: (22.19394592673175, 2.4640229775143295e-13)\n",
      "Integral: 22.1939459267\n",
      "Error: 2.46e-13\n",
      "\n"
     ]
    }
   ],
   "source": [
    "# Integrate with a=1\n",
    "result_a1 = scint.quad(myfunc2, 1, 4, args=(1,))\n",
    "print(f\"With a=1:\")\n",
    "print(f\"Numerical integration result: {result_a1}\")\n",
    "print(f\"Integral: {result_a1[0]:.10f}\")\n",
    "print(f\"Error: {result_a1[1]:.2e}\\n\")"
   ]
  },
  {
   "cell_type": "code",
   "execution_count": 11,
   "metadata": {},
   "outputs": [
    {
     "name": "stdout",
     "output_type": "stream",
     "text": [
      "With a=0 (only x² term):\n",
      "Numerical integration result: (21.000000000000004, 2.331468351712829e-13)\n",
      "Integral: 21.0000000000\n",
      "Error: 2.33e-13\n",
      "\n",
      "Analytical solution for ∫x² dx from 1 to 4: 21.0000000000\n",
      "Difference: 3.55e-15\n"
     ]
    }
   ],
   "source": [
    "# Integrate with a=0 (just x^2)\n",
    "result_a0 = scint.quad(myfunc2, 1, 4, args=(0,))\n",
    "print(f\"With a=0 (only x² term):\")\n",
    "print(f\"Numerical integration result: {result_a0}\")\n",
    "print(f\"Integral: {result_a0[0]:.10f}\")\n",
    "print(f\"Error: {result_a0[1]:.2e}\\n\")\n",
    "\n",
    "# Compare with analytical solution for x^2\n",
    "analytical_x2 = 4**3/3 - 1**3/3\n",
    "print(f\"Analytical solution for ∫x² dx from 1 to 4: {analytical_x2:.10f}\")\n",
    "print(f\"Difference: {abs(result_a0[0] - analytical_x2):.2e}\")"
   ]
  },
  {
   "cell_type": "markdown",
   "metadata": {},
   "source": [
    "## Part 4: Integration with Infinite Limits\n",
    "\n",
    "`scipy.integrate.quad` can handle infinite integration limits.\n",
    "\n",
    "### Example 3: Convergent Integral - $\\int_0^\\infty 3e^{-x} dx$\n",
    "\n",
    "Analytical solution:\n",
    "$$\\int_0^\\infty 3e^{-x} dx = -3e^{-x}\\bigg|_0^\\infty = 0 - (-3) = 3$$"
   ]
  },
  {
   "cell_type": "code",
   "execution_count": 12,
   "metadata": {},
   "outputs": [
    {
     "name": "stdout",
     "output_type": "stream",
     "text": [
      "Integration of f(x) = 3e^(-x) from 0 to ∞:\n",
      "Result: (2.9999999999999996, 1.7527817819171328e-10)\n",
      "\n",
      "Integral value: 3.0000000000\n",
      "Error estimate: 1.75e-10\n",
      "Analytical solution: 3.0000000000\n",
      "\n",
      "The integral converges to 3!\n"
     ]
    }
   ],
   "source": [
    "# Define an exponential decay function\n",
    "def myfunc3(x):\n",
    "    \"\"\"Function: f(x) = 3*exp(-x)\"\"\"\n",
    "    return 3 * np.exp(-x)\n",
    "\n",
    "# Integrate from 0 to infinity\n",
    "result_inf = scint.quad(myfunc3, 0, np.inf)\n",
    "print(\"Integration of f(x) = 3e^(-x) from 0 to ∞:\")\n",
    "print(f\"Result: {result_inf}\")\n",
    "print(f\"\\nIntegral value: {result_inf[0]:.10f}\")\n",
    "print(f\"Error estimate: {result_inf[1]:.2e}\")\n",
    "print(f\"Analytical solution: 3.0000000000\")\n",
    "print(f\"\\nThe integral converges to 3!\")"
   ]
  },
  {
   "cell_type": "markdown",
   "metadata": {},
   "source": [
    "### Example 4: Divergent Integral - $\\int_0^\\infty 3e^{x} dx$\n",
    "\n",
    "This integral diverges because $e^x$ grows exponentially as $x \\to \\infty$.\n",
    "\n",
    "**Warning:** This will generate an error or warning message!"
   ]
  },
  {
   "cell_type": "code",
   "execution_count": 13,
   "metadata": {},
   "outputs": [
    {
     "name": "stdout",
     "output_type": "stream",
     "text": [
      "Attempting to integrate f(x) = 3e^x from 0 to ∞:\n",
      "This integral diverges!\n",
      "\n",
      "Result: (inf, inf)\n",
      "\n",
      "Note: The function will issue a warning because the integral diverges.\n"
     ]
    },
    {
     "name": "stderr",
     "output_type": "stream",
     "text": [
      "/var/folders/c6/n8tq18qd4ngcgfk73gs61cvm0000gn/T/ipykernel_65098/233613993.py:4: RuntimeWarning: overflow encountered in exp\n",
      "  return 3 * np.exp(x)\n"
     ]
    }
   ],
   "source": [
    "# Define an exponential growth function\n",
    "def myfunc4(x):\n",
    "    \"\"\"Function: f(x) = 3*exp(x)\"\"\"\n",
    "    return 3 * np.exp(x)\n",
    "\n",
    "# Attempt to integrate from 0 to infinity (this should diverge)\n",
    "print(\"Attempting to integrate f(x) = 3e^x from 0 to ∞:\")\n",
    "print(\"This integral diverges!\\n\")\n",
    "\n",
    "result_divergent = scint.quad(myfunc4, 0, np.inf)\n",
    "print(f\"Result: {result_divergent}\")\n",
    "print(\"\\nNote: The function will issue a warning because the integral diverges.\")"
   ]
  }
 ],
 "metadata": {
  "kernelspec": {
   "display_name": "Python 3 (ipykernel)",
   "language": "python",
   "name": "python3"
  },
  "language_info": {
   "codemirror_mode": {
    "name": "ipython",
    "version": 3
   },
   "file_extension": ".py",
   "mimetype": "text/x-python",
   "name": "python",
   "nbconvert_exporter": "python",
   "pygments_lexer": "ipython3",
   "version": "3.10.14"
  }
 },
 "nbformat": 4,
 "nbformat_minor": 4
}
