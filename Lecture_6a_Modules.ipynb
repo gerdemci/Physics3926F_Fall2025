{
 "cells": [
  {
   "cell_type": "markdown",
   "metadata": {},
   "source": [
    "# Lecture 6a: Python Modules and Imports\n",
    "\n",
    "**Understanding how to organize and reuse code effectively**\n",
    "\n",
    "---"
   ]
  },
  {
   "cell_type": "markdown",
   "metadata": {},
   "source": [
    "## What are Modules?\n",
    "\n",
    "A **module** is a file containing Python definitions and statements. Modules allow you to organize your code into reusable components, making your programs more maintainable and easier to understand.\n",
    "\n",
    "### Benefits of Using Modules:\n",
    "- **Code reusability**: Write once, use many times\n",
    "- **Organization**: Keep related code together\n",
    "- **Namespace management**: Avoid naming conflicts\n",
    "- **Maintainability**: Easier to update and debug"
   ]
  },
  {
   "cell_type": "markdown",
   "metadata": {},
   "source": [
    "## Creating Your Own Module\n",
    "\n",
    "Let's create a module called `fibo.py` that contains Fibonacci sequence functions.\n",
    "\n",
    "**File: fibo.py**"
   ]
  },
  {
   "cell_type": "code",
   "execution_count": 11,
   "metadata": {},
   "outputs": [],
   "source": [
    "# Save this as fibo.py in the same directory\n",
    "\n",
    "def fib(n):\n",
    "    \"\"\"Prints out the Fibonacci series up to n\"\"\"\n",
    "    a, b = 0, 1\n",
    "    while a < n:\n",
    "        print(a, end=' ')\n",
    "        a, b = b, a + b\n",
    "    print()\n",
    "\n",
    "def fib2(n):\n",
    "    \"\"\"Returns the Fibonacci series up to n as a list\"\"\"\n",
    "    result = []\n",
    "    a, b = 0, 1\n",
    "    while a < n:\n",
    "        result.append(a)\n",
    "        a, b = b, a + b\n",
    "    return result"
   ]
  },
  {
   "cell_type": "markdown",
   "metadata": {},
   "source": [
    "## Using Modules\n",
    "\n",
    "Once you've created a module, you can import and use it in other Python files or notebooks:"
   ]
  },
  {
   "cell_type": "code",
   "execution_count": 12,
   "metadata": {},
   "outputs": [
    {
     "name": "stdout",
     "output_type": "stream",
     "text": [
      "Printing Fibonacci series up to 42:\n",
      "0 1 1 2 3 5 8 13 21 34 \n"
     ]
    }
   ],
   "source": [
    "# Import the fibo module\n",
    "import fibo\n",
    "\n",
    "# Call functions from the fibo module\n",
    "print(\"Printing Fibonacci series up to 42:\")\n",
    "fibo.fib(42)"
   ]
  },
  {
   "cell_type": "code",
   "execution_count": 13,
   "metadata": {},
   "outputs": [
    {
     "name": "stdout",
     "output_type": "stream",
     "text": [
      "Fibonacci series as a list:\n",
      "[0, 1, 1, 2, 3, 5, 8, 13, 21, 34]\n"
     ]
    }
   ],
   "source": [
    "# Get the series as a list\n",
    "result = fibo.fib2(42)\n",
    "print(\"Fibonacci series as a list:\")\n",
    "print(result)"
   ]
  },
  {
   "cell_type": "code",
   "execution_count": 14,
   "metadata": {},
   "outputs": [
    {
     "name": "stdout",
     "output_type": "stream",
     "text": [
      "After appending 47:\n",
      "[0, 1, 1, 2, 3, 5, 8, 13, 21, 34, 47]\n"
     ]
    }
   ],
   "source": [
    "# Modify the returned list\n",
    "result.append(47)\n",
    "print(\"After appending 47:\")\n",
    "print(result)"
   ]
  },
  {
   "cell_type": "markdown",
   "metadata": {},
   "source": [
    "## Reloading Modules\n",
    "\n",
    "During development, you might need to reload a module after making changes:"
   ]
  },
  {
   "cell_type": "code",
   "execution_count": 15,
   "metadata": {},
   "outputs": [
    {
     "name": "stdout",
     "output_type": "stream",
     "text": [
      "Module reloaded successfully!\n"
     ]
    }
   ],
   "source": [
    "import importlib\n",
    "\n",
    "# Reload the module with latest changes\n",
    "importlib.reload(fibo)\n",
    "\n",
    "print(\"Module reloaded successfully!\")"
   ]
  },
  {
   "cell_type": "markdown",
   "metadata": {},
   "source": [
    "**Note:** This is particularly useful in Jupyter notebooks or interactive sessions where you're actively developing a module."
   ]
  },
  {
   "cell_type": "markdown",
   "metadata": {},
   "source": [
    "## Different Import Styles\n",
    "\n",
    "### 1. Standard Import"
   ]
  },
  {
   "cell_type": "code",
   "execution_count": 16,
   "metadata": {},
   "outputs": [
    {
     "name": "stdout",
     "output_type": "stream",
     "text": [
      "Using numpy: -0.9999987317275395\n",
      "Using math: -0.9999987317275395\n"
     ]
    }
   ],
   "source": [
    "import numpy\n",
    "import math\n",
    "\n",
    "# Access functions with module prefix\n",
    "print(\"Using numpy:\", numpy.cos(3.14))\n",
    "print(\"Using math:\", math.cos(3.14))"
   ]
  },
  {
   "cell_type": "markdown",
   "metadata": {},
   "source": [
    "### 2. Import with Alias (Recommended)"
   ]
  },
  {
   "cell_type": "code",
   "execution_count": 17,
   "metadata": {},
   "outputs": [
    {
     "name": "stdout",
     "output_type": "stream",
     "text": [
      "Using np: -0.9999987317275395\n",
      "Using mt: -0.9999987317275395\n"
     ]
    }
   ],
   "source": [
    "import numpy as np\n",
    "import math as mt\n",
    "\n",
    "# Use shorter aliases\n",
    "print(\"Using np:\", np.cos(3.14))\n",
    "print(\"Using mt:\", mt.cos(3.14))"
   ]
  },
  {
   "cell_type": "markdown",
   "metadata": {},
   "source": [
    "**✓ Best Practice:** Using aliases like `np` for numpy is a widely accepted convention in the Python community."
   ]
  },
  {
   "cell_type": "markdown",
   "metadata": {},
   "source": [
    "### 3. Import All (Not Recommended!!)"
   ]
  },
  {
   "cell_type": "code",
   "execution_count": 18,
   "metadata": {},
   "outputs": [],
   "source": [
    "# DON'T DO THIS!\n",
    "# from numpy import *\n",
    "\n",
    "# This imports all functions into the global namespace\n",
    "# Can lead to naming conflicts and makes code harder to debug"
   ]
  },
  {
   "cell_type": "markdown",
   "metadata": {},
   "source": [
    "**Warning:** Avoid importing all functions into the global namespace. This can lead to naming conflicts and makes code harder to debug."
   ]
  },
  {
   "cell_type": "markdown",
   "metadata": {},
   "source": [
    "## NumPy vs Math: Key Differences"
   ]
  },
  {
   "cell_type": "code",
   "execution_count": 19,
   "metadata": {},
   "outputs": [
    {
     "name": "stdout",
     "output_type": "stream",
     "text": [
      "Array: [0. 0. 0. 0. 0.]\n",
      "Cosine of array (NumPy): [1. 1. 1. 1. 1.]\n"
     ]
    }
   ],
   "source": [
    "import numpy as np\n",
    "import math as mt\n",
    "\n",
    "# NumPy works with arrays\n",
    "testarr = np.zeros(5)\n",
    "print(\"Array:\", testarr)\n",
    "print(\"Cosine of array (NumPy):\", np.cos(testarr))"
   ]
  },
  {
   "cell_type": "code",
   "execution_count": 20,
   "metadata": {},
   "outputs": [
    {
     "name": "stdout",
     "output_type": "stream",
     "text": [
      "Cosine of 3.14 (math): -0.9999987317275395\n"
     ]
    }
   ],
   "source": [
    "# Math works only with scalars\n",
    "print(\"Cosine of 3.14 (math):\", mt.cos(3.14))\n",
    "\n",
    "# This would raise an error:\n",
    "# mt.cos(testarr)  # TypeError: only size-1 arrays can be converted"
   ]
  },
  {
   "cell_type": "markdown",
   "metadata": {},
   "source": [
    "## Watch Out for Overlapping Modules\n",
    "\n",
    "NumPy and SciPy have overlapping function names in these modules:\n",
    "- `linalg` (linear algebra)\n",
    "- `random`\n",
    "- `stats`\n",
    "\n",
    "**Important:** Always use explicit imports to avoid confusion!\n",
    "\n",
    "```python\n",
    "import numpy.linalg as np_linalg\n",
    "import scipy.linalg as sp_linalg\n",
    "```"
   ]
  },
  {
   "cell_type": "markdown",
   "metadata": {},
   "source": [
    "## Summary\n",
    "\n",
    "✓ Modules help organize code into reusable components\n",
    "\n",
    "✓ Use `import module` or `import module as alias`\n",
    "\n",
    "✓ Avoid `from module import *` to prevent naming conflicts\n",
    "\n",
    "✓ Use `importlib.reload()` during development\n",
    "\n",
    "✓ Be aware of overlapping function names between libraries\n",
    "\n",
    "---\n",
    "\n",
    "## Practice Exercises\n",
    "\n",
    "1. Create your own module with utility functions\n",
    "2. Import the same function from both NumPy and Math and compare performance\n",
    "3. Explore other useful Python modules like `datetime`, `random`, and `os`"
   ]
  },
  {
   "cell_type": "code",
   "execution_count": null,
   "metadata": {},
   "outputs": [],
   "source": []
  }
 ],
 "metadata": {
  "kernelspec": {
   "display_name": "Python 3 (ipykernel)",
   "language": "python",
   "name": "python3"
  },
  "language_info": {
   "codemirror_mode": {
    "name": "ipython",
    "version": 3
   },
   "file_extension": ".py",
   "mimetype": "text/x-python",
   "name": "python",
   "nbconvert_exporter": "python",
   "pygments_lexer": "ipython3",
   "version": "3.10.14"
  }
 },
 "nbformat": 4,
 "nbformat_minor": 4
}
