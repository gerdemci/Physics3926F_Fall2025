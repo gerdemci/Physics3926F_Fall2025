{
 "cells": [
  {
   "cell_type": "markdown",
   "metadata": {},
   "source": [
    "# Lecture 6b: Linear Algebra with NumPy and SciPy\n",
    "\n",
    "**Solving systems of linear equations computationally**\n",
    "\n",
    "---"
   ]
  },
  {
   "cell_type": "markdown",
   "metadata": {},
   "source": [
    "## Introduction to Linear Systems\n",
    "\n",
    "Linear algebra is fundamental to scientific computing, data science, and machine learning. Python provides powerful tools through NumPy and SciPy to solve systems of linear equations efficiently.\n",
    "\n",
    "A system of linear equations can be written in matrix form as: **Ax = b**\n",
    "\n",
    "Where:\n",
    "- **A** is the coefficient matrix\n",
    "- **x** is the vector of unknowns\n",
    "- **b** is the constant vector"
   ]
  },
  {
   "cell_type": "markdown",
   "metadata": {},
   "source": [
    "## Step 1: Import Linear Algebra Libraries\n",
    "\n",
    "We'll use both NumPy and SciPy's linear algebra modules:"
   ]
  },
  {
   "cell_type": "code",
   "execution_count": 1,
   "metadata": {},
   "outputs": [],
   "source": [
    "import numpy.linalg as np_linalg\n",
    "import scipy.linalg as sp_linalg\n",
    "import numpy as np"
   ]
  },
  {
   "cell_type": "markdown",
   "metadata": {},
   "source": [
    "**Why import separately?** Both NumPy and SciPy have `linalg` modules. Using explicit imports prevents naming conflicts and makes it clear which library you're using."
   ]
  },
  {
   "cell_type": "markdown",
   "metadata": {},
   "source": [
    "## Step 2: Define the Problem\n",
    "\n",
    "Let's solve this system of three equations with three unknowns:\n",
    "\n",
    "```\n",
    "1x + 2y - 1z = 3\n",
    "2x - 1y + 1z = 1\n",
    "1x + 1y + 1z = 6\n",
    "```\n",
    "\n",
    "We can represent this system as matrices:"
   ]
  },
  {
   "cell_type": "code",
   "execution_count": 2,
   "metadata": {},
   "outputs": [
    {
     "name": "stdout",
     "output_type": "stream",
     "text": [
      "Shape of A: (3, 3)\n",
      "Shape of b: (3,)\n",
      "\n",
      "Matrix A:\n",
      "[[ 1  2 -1]\n",
      " [ 2 -1  1]\n",
      " [ 1  1  1]]\n",
      "\n",
      "Vector b:\n",
      "[3 1 6]\n"
     ]
    }
   ],
   "source": [
    "# Define coefficient matrix A\n",
    "A = np.array([\n",
    "    [1, 2, -1],\n",
    "    [2, -1, 1],\n",
    "    [1, 1, 1],\n",
    "])\n",
    "\n",
    "# Define constant vector b\n",
    "b = np.array([3, 1, 6])\n",
    "\n",
    "print(\"Shape of A:\", A.shape)\n",
    "print(\"Shape of b:\", b.shape)\n",
    "print(\"\\nMatrix A:\")\n",
    "print(A)\n",
    "print(\"\\nVector b:\")\n",
    "print(b)"
   ]
  },
  {
   "cell_type": "markdown",
   "metadata": {},
   "source": [
    "## Step 3: Display Equations (Optional)\n",
    "\n",
    "We can programmatically display the equations in readable format:"
   ]
  },
  {
   "cell_type": "code",
   "execution_count": 3,
   "metadata": {},
   "outputs": [
    {
     "name": "stdout",
     "output_type": "stream",
     "text": [
      "System of equations:\n",
      "----------------------------------------\n",
      "1 x[0] + 2 x[1] + -1 x[2] = 3\n",
      "2 x[0] + -1 x[1] + 1 x[2] = 1\n",
      "1 x[0] + 1 x[1] + 1 x[2] = 6\n",
      "\n",
      "Note: x[0] = x, x[1] = y, x[2] = z\n"
     ]
    }
   ],
   "source": [
    "# Display equations in readable format\n",
    "print(\"System of equations:\")\n",
    "print(\"-\" * 40)\n",
    "for i in range(A.shape[0]):\n",
    "    terms = []\n",
    "    for j in range(A.shape[1]):\n",
    "        terms.append(\"{1} x[{0}]\".format(j, A[i, j]))\n",
    "    print(\" + \".join(terms), \"=\", b[i])\n",
    "\n",
    "print(\"\\nNote: x[0] = x, x[1] = y, x[2] = z\")"
   ]
  },
  {
   "cell_type": "markdown",
   "metadata": {},
   "source": [
    "## Step 4: Solve with NumPy\n",
    "\n",
    "NumPy provides a direct solver for linear systems:"
   ]
  },
  {
   "cell_type": "code",
   "execution_count": 4,
   "metadata": {},
   "outputs": [
    {
     "name": "stdout",
     "output_type": "stream",
     "text": [
      "Solution using NumPy:\n",
      "x = 0.43, y = 2.71, z = 2.86\n",
      "\n",
      "Solution vector: [0.42857143 2.71428571 2.85714286]\n"
     ]
    }
   ],
   "source": [
    "# Solve using NumPy\n",
    "x = np_linalg.solve(A, b)\n",
    "\n",
    "print(\"Solution using NumPy:\")\n",
    "print(\"x = {:.2f}, y = {:.2f}, z = {:.2f}\".format(x[0], x[1], x[2]))\n",
    "print(\"\\nSolution vector:\", x)"
   ]
  },
  {
   "cell_type": "markdown",
   "metadata": {},
   "source": [
    "## Step 5: Verify the Solution\n",
    "\n",
    "We can verify our solution by checking if **Ax - b ≈ 0**:"
   ]
  },
  {
   "cell_type": "code",
   "execution_count": 5,
   "metadata": {},
   "outputs": [
    {
     "name": "stdout",
     "output_type": "stream",
     "text": [
      "Verification (Ax - b):\n",
      "[ 0.0000000e+00  0.0000000e+00 -8.8817842e-16]\n",
      "\n",
      "✓ If all values are zero (or very close to zero), the solution is correct!\n"
     ]
    }
   ],
   "source": [
    "# Verify: Ax - b should equal [0, 0, 0]\n",
    "verification = np.dot(A, x) - b\n",
    "\n",
    "print(\"Verification (Ax - b):\")\n",
    "print(verification)\n",
    "print(\"\\n✓ If all values are zero (or very close to zero), the solution is correct!\")"
   ]
  },
  {
   "cell_type": "markdown",
   "metadata": {},
   "source": [
    "## Alternative Solution Methods\n",
    "\n",
    "### Method 1: Matrix Inverse (Less Efficient)"
   ]
  },
  {
   "cell_type": "code",
   "execution_count": 6,
   "metadata": {},
   "outputs": [
    {
     "name": "stdout",
     "output_type": "stream",
     "text": [
      "Solution using matrix inverse:\n",
      "x = 0.43, y = 2.71, z = 2.86\n"
     ]
    }
   ],
   "source": [
    "# Using SciPy to invert matrix A and multiply by b\n",
    "xnew = sp_linalg.inv(A).dot(b)\n",
    "\n",
    "print(\"Solution using matrix inverse:\")\n",
    "print(\"x = {:.2f}, y = {:.2f}, z = {:.2f}\".format(xnew[0], xnew[1], xnew[2]))"
   ]
  },
  {
   "cell_type": "markdown",
   "metadata": {},
   "source": [
    "**Note:** Computing the inverse is computationally expensive and less numerically stable than using a direct solver."
   ]
  },
  {
   "cell_type": "markdown",
   "metadata": {},
   "source": [
    "### Method 2: SciPy Solver (Recommended)"
   ]
  },
  {
   "cell_type": "code",
   "execution_count": 7,
   "metadata": {},
   "outputs": [
    {
     "name": "stdout",
     "output_type": "stream",
     "text": [
      "Solution using SciPy solver:\n",
      "x = 0.43, y = 2.71, z = 2.86\n"
     ]
    }
   ],
   "source": [
    "# Using SciPy's direct solver (more efficient)\n",
    "xnew = sp_linalg.solve(A, b)\n",
    "\n",
    "print(\"Solution using SciPy solver:\")\n",
    "print(\"x = {:.2f}, y = {:.2f}, z = {:.2f}\".format(xnew[0], xnew[1], xnew[2]))"
   ]
  },
  {
   "cell_type": "markdown",
   "metadata": {},
   "source": [
    "**✓ Best Practice:** Use `solve()` instead of inverting the matrix for better performance and numerical stability."
   ]
  },
  {
   "cell_type": "markdown",
   "metadata": {},
   "source": [
    "## Complete Example: Putting It All Together"
   ]
  },
  {
   "cell_type": "code",
   "execution_count": 8,
   "metadata": {},
   "outputs": [
    {
     "name": "stdout",
     "output_type": "stream",
     "text": [
      "==================================================\n",
      "SOLUTION\n",
      "==================================================\n",
      "x = 0.4286\n",
      "y = 2.7143\n",
      "z = 2.8571\n",
      "==================================================\n",
      "\n",
      "Residual (should be ~0): 8.88e-16\n"
     ]
    }
   ],
   "source": [
    "# Complete workflow\n",
    "import numpy as np\n",
    "import numpy.linalg as np_linalg\n",
    "\n",
    "# Define the problem\n",
    "A = np.array([\n",
    "    [1, 2, -1],\n",
    "    [2, -1, 1],\n",
    "    [1, 1, 1],\n",
    "])\n",
    "b = np.array([3, 1, 6])\n",
    "\n",
    "# Solve\n",
    "x = np_linalg.solve(A, b)\n",
    "\n",
    "# Display results\n",
    "print(\"=\"*50)\n",
    "print(\"SOLUTION\")\n",
    "print(\"=\"*50)\n",
    "print(f\"x = {x[0]:.4f}\")\n",
    "print(f\"y = {x[1]:.4f}\")\n",
    "print(f\"z = {x[2]:.4f}\")\n",
    "print(\"=\"*50)\n",
    "\n",
    "# Verify\n",
    "residual = np.linalg.norm(np.dot(A, x) - b)\n",
    "print(f\"\\nResidual (should be ~0): {residual:.2e}\")"
   ]
  },
  {
   "cell_type": "markdown",
   "metadata": {},
   "source": [
    "## Summary\n",
    "\n",
    "✓ Linear systems **Ax = b** can be solved efficiently with Python\n",
    "\n",
    "✓ Use `np.linalg.solve(A, b)` or `sp.linalg.solve(A, b)` for direct solving\n",
    "\n",
    "✓ Avoid matrix inversion when possible - use `solve()` instead\n",
    "\n",
    "✓ Always verify your solution by checking **Ax - b ≈ 0**\n",
    "\n",
    "✓ Import linear algebra modules explicitly to avoid naming conflicts\n",
    "\n",
    "---\n",
    "\n",
    "## Practice Exercises\n",
    "\n",
    "1. Try solving a 4x4 system of equations\n",
    "2. Compare the performance of NumPy vs SciPy solvers using `%timeit`\n",
    "3. Explore eigenvalue problems using `np.linalg.eig()`\n",
    "4. Investigate singular matrices and what happens when they can't be solved"
   ]
  },
  {
   "cell_type": "code",
   "execution_count": null,
   "metadata": {},
   "outputs": [],
   "source": []
  }
 ],
 "metadata": {
  "kernelspec": {
   "display_name": "Python 3 (ipykernel)",
   "language": "python",
   "name": "python3"
  },
  "language_info": {
   "codemirror_mode": {
    "name": "ipython",
    "version": 3
   },
   "file_extension": ".py",
   "mimetype": "text/x-python",
   "name": "python",
   "nbconvert_exporter": "python",
   "pygments_lexer": "ipython3",
   "version": "3.10.14"
  }
 },
 "nbformat": 4,
 "nbformat_minor": 4
}
