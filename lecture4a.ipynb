{
 "cells": [
  {
   "cell_type": "markdown",
   "metadata": {},
   "source": [
    "# Lecture 4: Reading Data Files in Python\n",
    "\n",
    "## Introduction\n",
    "This lecture covers various methods for reading data files in Python, including text files, CSV files, and working with files in different directories."
   ]
  },
  {
   "cell_type": "markdown",
   "metadata": {},
   "source": [
    "## 1. Import Required Libraries\n",
    "We'll use NumPy for numerical operations, Pandas for data manipulation, and built-in modules for file handling."
   ]
  },
  {
   "cell_type": "code",
   "execution_count": 1,
   "metadata": {},
   "outputs": [],
   "source": [
    "import numpy as np\n",
    "import pandas as pd\n",
    "import csv\n",
    "import os"
   ]
  },
  {
   "cell_type": "markdown",
   "metadata": {},
   "source": [
    "## 2. Loading Text Files with NumPy\n",
    "NumPy's `loadtxt()` function is efficient for reading numerical data from text files. The `skiprows` parameter lets us skip header lines."
   ]
  },
  {
   "cell_type": "code",
   "execution_count": 2,
   "metadata": {},
   "outputs": [
    {
     "name": "stdout",
     "output_type": "stream",
     "text": [
      "[ -0.6959679   0.6029675 -10.08763  ]\n",
      "[  0.2439858   1.01116   -10.06818  ]\n",
      "[  0.06051586   0.1582956  -10.24191   ]\n",
      "[  0.9235653   0.2442797 -10.05873  ]\n",
      "[  0.4069332  -0.6476358 -10.06638  ]\n",
      "[ -0.5964802  -0.428977  -10.08768  ]\n",
      "[-0.5455569  1.560081  -9.886611 ]\n",
      "[ 1.191757  1.171054 -9.861659]\n",
      "[ 1.366334  -0.5939452 -9.823559 ]\n",
      "[-1.456797    0.01799601 -9.896421  ]\n",
      "[-0.2661551 -1.323102  -9.835986 ]\n",
      "[ 1.814858   0.3449763 -9.768678 ]\n",
      "[ 0.4418391  1.888412  -9.801923 ]\n",
      "[-1.465041  1.066661 -9.818983]\n",
      "[-1.262096 -1.005563 -9.76525 ]\n",
      "[ 0.7652211 -1.43836   -9.706944 ]\n",
      "[ 2.301517  -0.5110367 -9.532539 ]\n",
      "[ 2.135316  1.289309 -9.616412]\n",
      "[-0.3563513  2.488546  -9.632153 ]\n",
      "[ 1.413257  2.101829 -9.629649]\n",
      "[-2.277633   0.4856141 -9.618547 ]\n",
      "[-1.352699  2.057779 -9.636264]\n",
      "[-0.9544027 -1.933216  -9.48681  ]\n",
      "[-2.164492  -0.5833598 -9.558676 ]\n",
      "[ 0.08801756 -2.158316   -9.461086  ]\n",
      "[ 1.745929 -1.435509 -9.467551]\n",
      "[ 1.110432 -2.255449 -9.296237]\n",
      "[-1.938223 -1.58265  -9.359112]\n",
      "[-2.269188  1.530688 -9.541501]\n",
      "[ 0.6358467  2.80622   -9.534735 ]\n",
      "[ 2.739231   0.4347768 -9.492603 ]\n"
     ]
    }
   ],
   "source": [
    "mydata = np.loadtxt('frame_07_00000.shell', skiprows=3)\n",
    "for row in mydata:\n",
    "    print(row)"
   ]
  },
  {
   "cell_type": "markdown",
   "metadata": {},
   "source": [
    "## 3. Reading CSV Files with Pandas\n",
    "Pandas `read_csv()` is the most convenient method for reading CSV files. It automatically creates a DataFrame with labeled columns and provides many parsing options."
   ]
  },
  {
   "cell_type": "code",
   "execution_count": 3,
   "metadata": {},
   "outputs": [
    {
     "name": "stdout",
     "output_type": "stream",
     "text": [
      "    Unnamed: 0  time     cable   leading\n",
      "0            0     0  1.615584  1.250251\n",
      "1            1     1  1.645311  1.299164\n",
      "2            2     2  1.675044  1.265786\n",
      "3            3     3  1.681775  1.286977\n",
      "4            4     4  1.717248  1.311742\n",
      "5            5     5  1.710590  1.303908\n",
      "6            6     6  1.729195  1.334243\n",
      "7            7     7  1.723315  1.349088\n",
      "8            8     8  1.741532  1.341120\n",
      "9            9     9  1.779844  1.348152\n",
      "10          10    10  1.781008  1.390733\n",
      "11          11    11  1.794161  1.428721\n",
      "12          12    12  1.826443  1.372055\n",
      "13          13    13  1.813017  1.398246\n",
      "14          14    14  1.822511  1.444728\n",
      "15          15    15  1.805277  1.413252\n",
      "16          16    16  1.878621  1.466935\n",
      "17          17    17  1.854621  1.467896\n",
      "18          18    18  1.929291  1.471897\n",
      "19          19    19  1.931475  1.479017\n",
      "20          20    20  1.914829  1.497291\n",
      "21          21    21  1.969095  1.438711\n",
      "22          22    22  1.991238  1.544351\n",
      "23          23    23  1.912955  1.549925\n",
      "24          24    24  1.932871  1.520064\n",
      "25          25    25  1.986837  1.528758\n",
      "26          26    26  1.962886  1.547977\n",
      "27          27    27  2.000833  1.578016\n",
      "28          28    28  2.025811  1.587337\n",
      "29          29    29  2.026847  1.600182\n",
      "30          30    30  1.994079  1.585878\n"
     ]
    }
   ],
   "source": [
    "mydata = pd.read_csv('average_actin.csv')\n",
    "print(mydata)"
   ]
  },
  {
   "cell_type": "markdown",
   "metadata": {},
   "source": [
    "## 4. Reading CSV Files with the CSV Module\n",
    "The built-in `csv` module provides lower-level access to CSV files. This is useful when you need more control over parsing or for simpler operations."
   ]
  },
  {
   "cell_type": "code",
   "execution_count": 4,
   "metadata": {},
   "outputs": [
    {
     "name": "stdout",
     "output_type": "stream",
     "text": [
      "['', 'time', 'cable', 'leading']\n",
      "['0', '0', '1.6155842763781092', '1.2502512862097157']\n",
      "['1', '1', '1.645310929367047', '1.2991642183636103']\n",
      "['2', '2', '1.6750444578524526', '1.2657860601529953']\n",
      "['3', '3', '1.6817753970039995', '1.2869771029551575']\n",
      "['4', '4', '1.7172479564003464', '1.3117421639029123']\n",
      "['5', '5', '1.7105898989461543', '1.3039079794904018']\n",
      "['6', '6', '1.7291945670305786', '1.3342429998076344']\n",
      "['7', '7', '1.7233150570310616', '1.3490883633107331']\n",
      "['8', '8', '1.7415317151641296', '1.3411203043225095']\n",
      "['9', '9', '1.779843814223063', '1.3481520545256533']\n",
      "['10', '10', '1.7810079232502445', '1.3907332697254433']\n",
      "['11', '11', '1.7941605481654352', '1.42872105289098']\n",
      "['12', '12', '1.8264430594564427', '1.3720547291753866']\n",
      "['13', '13', '1.813017453485486', '1.398245557991278']\n",
      "['14', '14', '1.8225112281374933', '1.4447278709440516']\n",
      "['15', '15', '1.8052766513299154', '1.4132515271766102']\n",
      "['16', '16', '1.8786209559260822', '1.4669349062332662']\n",
      "['17', '17', '1.8546212714602262', '1.4678961810780855']\n",
      "['18', '18', '1.929290943401274', '1.4718974360317745']\n",
      "['19', '19', '1.9314753683660704', '1.4790166417067907']\n",
      "['20', '20', '1.914829124806261', '1.4972907388043262']\n",
      "['21', '21', '1.969094994672572', '1.4387108970022722']\n",
      "['22', '22', '1.9912377183133916', '1.544351308954048']\n",
      "['23', '23', '1.9129548692677982', '1.5499249119679097']\n",
      "['24', '24', '1.9328710779126355', '1.5200638021280872']\n",
      "['25', '25', '1.9868369918847697', '1.5287580387039292']\n",
      "['26', '26', '1.9628857836847935', '1.5479769882549506']\n",
      "['27', '27', '2.0008334049156122', '1.5780157919479094']\n",
      "['28', '28', '2.025810553562967', '1.5873370623033622']\n",
      "['29', '29', '2.026847254225114', '1.600182270661137']\n",
      "['30', '30', '1.9940787748507323', '1.5858775307735762']\n"
     ]
    }
   ],
   "source": [
    "with open('average_actin.csv') as csv_file:\n",
    "    csv_reader = csv.reader(csv_file)\n",
    "    for row in csv_reader:\n",
    "        print(row)"
   ]
  },
  {
   "cell_type": "markdown",
   "metadata": {},
   "source": [
    "## 5. Working with Files in Different Directories\n",
    "Often, data files are stored in separate directories. We use the `os` module to construct proper file paths."
   ]
  },
  {
   "cell_type": "code",
   "execution_count": 5,
   "metadata": {},
   "outputs": [],
   "source": [
    "path = str(os.getcwd())\n",
    "examplePath = os.path.join(path, \"Example_Data_Files\")"
   ]
  },
  {
   "cell_type": "markdown",
   "metadata": {},
   "source": [
    "## 6. Listing and Filtering Files\n",
    "We can scan a directory and filter files by extension to find specific data files."
   ]
  },
  {
   "cell_type": "code",
   "execution_count": 6,
   "metadata": {},
   "outputs": [],
   "source": [
    "folder = os.fsencode(examplePath)\n",
    "datafilenames = []\n",
    "for file in os.listdir(folder):\n",
    "    filename = os.fsdecode(file)\n",
    "    if filename.endswith('.txt'):\n",
    "        datafilenames.append(filename)\n",
    "#print(str(os.path.join(examplePath, datafilenames[0])))"
   ]
  },
  {
   "cell_type": "markdown",
   "metadata": {},
   "source": [
    "## 7. Loading Data from Subdirectories\n",
    "Once we have the full file path, we can load the data just like before."
   ]
  },
  {
   "cell_type": "code",
   "execution_count": 7,
   "metadata": {},
   "outputs": [
    {
     "name": "stdout",
     "output_type": "stream",
     "text": [
      "[23.     55.47    1.13   35.      0.6875]\n",
      "[24.    79.22   1.17  40.     0.625]\n",
      "[25.     97.62    1.22   45.      0.5625]\n",
      "[ 26.   112.93   1.28  50.     0.5 ]\n"
     ]
    }
   ],
   "source": [
    "mydata = np.loadtxt(str(os.path.join(examplePath, datafilenames[0])), skiprows=1)\n",
    "for row in mydata:\n",
    "    print(row)"
   ]
  },
  {
   "cell_type": "markdown",
   "metadata": {},
   "source": [
    "## Key Takeaways\n",
    "- **NumPy** is useful for loading numerical data from text files\n",
    "- **Pandas** is useful for CSV files and structured data with headers\n",
    "- **csv module** provides fine-grained control for CSV parsing\n",
    "- **os module** helps navigate file systems and construct platform-independent paths\n",
    "- Always ensure file paths are correct and the working directory is set appropriately"
   ]
  }
 ],
 "metadata": {
  "kernelspec": {
   "display_name": "Python 3 (ipykernel)",
   "language": "python",
   "name": "python3"
  },
  "language_info": {
   "codemirror_mode": {
    "name": "ipython",
    "version": 3
   },
   "file_extension": ".py",
   "mimetype": "text/x-python",
   "name": "python",
   "nbconvert_exporter": "python",
   "pygments_lexer": "ipython3",
   "version": "3.10.14"
  }
 },
 "nbformat": 4,
 "nbformat_minor": 4
}
