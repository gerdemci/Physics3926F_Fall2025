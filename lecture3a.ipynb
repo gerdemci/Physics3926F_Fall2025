{
 "cells": [
  {
   "cell_type": "markdown",
   "id": "8ea1b9ad",
   "metadata": {},
   "source": [
    "# Lecture 3 – Introduction to Python Functions and Documentation"
   ]
  },
  {
   "cell_type": "markdown",
   "id": "050a4d7c",
   "metadata": {},
   "source": [
    "## Functions and Documentation\n"
   ]
  },
  {
   "cell_type": "markdown",
   "id": "9cd1e8dc",
   "metadata": {},
   "source": [
    "1) Comments and Docstrings\n",
    "     - Comments: Single-line comments start with #. They are ignored by the interpreter.\n",
    "     - Docstrings: Multi-line strings enclosed in triple quotes (''' or \"\"\") that provide documentation for functions, modules, or classes.\n",
    "2) Defining Functions\n",
    "     - Functions allow us to encapsulate reusable code blocks, making programs easier to read, test, and maintain.\n",
    "     - Functions are defined using the def keyword.\n",
    "     - Functions can take arguments and return values.\n",
    "4) Function Documentation\n",
    "     - Docstrings are used to document functions.\n",
    "     - Docstrings should describe the function's purpose, inputs, and outputs.\n",
    " \n",
    " - Well-documented code is essential for collaboration and future reference.\n",
    " - Following best practices for readable code improves maintainability and understanding."
   ]
  },
  {
   "cell_type": "code",
   "execution_count": 46,
   "id": "5f4ffa22-dec2-4743-b836-9aa7b394452b",
   "metadata": {},
   "outputs": [],
   "source": [
    "import numpy as np\n",
    "import matplotlib.pyplot as plt"
   ]
  },
  {
   "cell_type": "code",
   "execution_count": 47,
   "id": "b7456c46-a9fd-402f-94da-bec626bd5760",
   "metadata": {},
   "outputs": [
    {
     "data": {
      "text/plain": [
       "'If we do not assign strings to any variable, they act as comments.'"
      ]
     },
     "execution_count": 47,
     "metadata": {},
     "output_type": "execute_result"
    }
   ],
   "source": [
    "#This is single line Python Comment not a Docstring. Following is how a docstring looks like\n",
    "\"If we do not assign strings to any variable, they act as comments.\""
   ]
  },
  {
   "cell_type": "code",
   "execution_count": 48,
   "id": "f1b25cba",
   "metadata": {},
   "outputs": [
    {
     "name": "stdout",
     "output_type": "stream",
     "text": [
      "9\n"
     ]
    }
   ],
   "source": [
    "# Function without a docstring (with Python comment not a docstringless)\n",
    "def square(x):\n",
    "    # Function to do square\n",
    "    return x**2\n",
    "\n",
    "print(square(3))"
   ]
  },
  {
   "cell_type": "code",
   "execution_count": 49,
   "id": "1fb57046",
   "metadata": {},
   "outputs": [
    {
     "name": "stdout",
     "output_type": "stream",
     "text": [
      "9\n"
     ]
    }
   ],
   "source": [
    "# Function with a docstring\n",
    "def square(x):\n",
    "    \"\"\"Takes in a number x. Returns the square of a number.\"\"\"\n",
    "    return x**2\n",
    "\n",
    "print(square(3))"
   ]
  },
  {
   "cell_type": "code",
   "execution_count": 50,
   "id": "6bdf7e03",
   "metadata": {},
   "outputs": [
    {
     "name": "stdout",
     "output_type": "stream",
     "text": [
      "Takes in a number x. Returns the square of a number.\n"
     ]
    }
   ],
   "source": [
    "print(square.__doc__)"
   ]
  },
  {
   "cell_type": "code",
   "execution_count": 51,
   "id": "9e9a2218-c386-4c25-961a-1b4e16208a0a",
   "metadata": {},
   "outputs": [
    {
     "name": "stdout",
     "output_type": "stream",
     "text": [
      "square(3)=9\n"
     ]
    }
   ],
   "source": [
    "print(\"square({})={}\".format(3,square(3)))"
   ]
  },
  {
   "cell_type": "code",
   "execution_count": 52,
   "id": "26eeded4",
   "metadata": {},
   "outputs": [
    {
     "name": "stdout",
     "output_type": "stream",
     "text": [
      "freezing point of water: 0.0 C\n",
      "boiling point of water: 100.0 C\n"
     ]
    }
   ],
   "source": [
    "def fahr_to_celsius(temp):\n",
    "    \"\"\"Convert temperature from Fahrenheit to Celsius.\n",
    "    Input: temp (float) – temperature in Fahrenheit.\n",
    "    Output: temperature in Celsius.\n",
    "    \"\"\"\n",
    "    return (temp - 32) * 5/9\n",
    "\n",
    "print('freezing point of water:', fahr_to_celsius(32), 'C')\n",
    "print('boiling point of water:', fahr_to_celsius(212), 'C')"
   ]
  },
  {
   "cell_type": "markdown",
   "id": "d6fd2b9d",
   "metadata": {},
   "source": [
    "## Readability and Style\n",
    "Well-documented code is essential for collaboration and future reference. Following best practices for readable code improves maintainability and understanding."
   ]
  },
  {
   "cell_type": "markdown",
   "id": "716efb97",
   "metadata": {},
   "source": [
    "> The following examples are from Software Carpentry: The functions `s` and `std_dev` are computationally equivalent (they both calculate the sample standard deviation), but to a human reader, they look very different. You probably found `std_dev` much easier to read and understand than `s`. As this example illustrates, both documentation and a programmer's coding style combine to determine how easy it is for others to read and understand the programmer's code. Choosing meaningful variable names and using blank spaces to break the code into logical \"chunks\" are helpful techniques for producing readable code. This is useful not only for sharing code with others, but also for the original programmer. If you need to revisit code that you wrote months ago and haven't thought about since then, you will appreciate the value of readable code!"
   ]
  },
  {
   "cell_type": "code",
   "execution_count": 53,
   "id": "ceb086c0",
   "metadata": {},
   "outputs": [
    {
     "name": "stdout",
     "output_type": "stream",
     "text": [
      "3.7416573867739413\n"
     ]
    }
   ],
   "source": [
    "def s(p):\n",
    "    a = 0\n",
    "    for v in p:\n",
    "        a += v\n",
    "    m = a / len(p)\n",
    "    d = 0\n",
    "    for v in p:\n",
    "        d += (v - m) * (v - m)\n",
    "    return np.sqrt(d / (len(p) - 1))\n",
    "    \n",
    "print(s([1, 3, 5, 7, 9, 11]))"
   ]
  },
  {
   "cell_type": "code",
   "execution_count": 54,
   "id": "e3d52888",
   "metadata": {},
   "outputs": [
    {
     "name": "stdout",
     "output_type": "stream",
     "text": [
      "3.7416573867739413\n"
     ]
    }
   ],
   "source": [
    "def std_dev(sample):\n",
    "    '''Calculates the sample standard deviation'''\n",
    "    sample_sum = 0\n",
    "    for value in sample:\n",
    "        sample_sum += value\n",
    "\n",
    "    sample_mean = sample_sum / len(sample)\n",
    "\n",
    "    sum_squared_devs = 0\n",
    "    for value in sample:\n",
    "        sum_squared_devs += (value - sample_mean) * (value - sample_mean)\n",
    "\n",
    "    return np.sqrt(sum_squared_devs / (len(sample) - 1))\n",
    "print(std_dev([1, 3, 5, 7, 9, 11]))"
   ]
  }
 ],
 "metadata": {
  "kernelspec": {
   "display_name": "Python 3 (ipykernel)",
   "language": "python",
   "name": "python3"
  },
  "language_info": {
   "codemirror_mode": {
    "name": "ipython",
    "version": 3
   },
   "file_extension": ".py",
   "mimetype": "text/x-python",
   "name": "python",
   "nbconvert_exporter": "python",
   "pygments_lexer": "ipython3",
   "version": "3.10.14"
  }
 },
 "nbformat": 4,
 "nbformat_minor": 5
}
