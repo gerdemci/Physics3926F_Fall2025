{
 "cells": [
  {
   "cell_type": "markdown",
   "id": "intro",
   "metadata": {},
   "source": [
    "# Introduction to NumPy Broadcasting\n",
    "\n",
    "## What is Broadcasting?\n",
    "Broadcasting is NumPy's way of performing operations on arrays that have different shapes. Think of it as NumPy's \"smart\" way of making arrays work together, even when they're different sizes."
   ]
  },
  {
   "cell_type": "markdown",
   "id": "basic-example",
   "metadata": {},
   "source": [
    "## Basic Example: Same Shapes\n",
    "When arrays have the same shape, operations work element by element:"
   ]
  },
  {
   "cell_type": "code",
   "execution_count": 1,
   "id": "same-shapes",
   "metadata": {},
   "outputs": [
    {
     "name": "stdout",
     "output_type": "stream",
     "text": [
      "a = [1 2 3 4]\n",
      "b = [10 20 30 40]\n",
      "a * b = [ 10  40  90 160]\n"
     ]
    }
   ],
   "source": [
    "import numpy as np\n",
    "\n",
    "a = np.array([1, 2, 3, 4])     # Shape: (4,)\n",
    "b = np.array([10, 20, 30, 40]) # Shape: (4,)\n",
    "result = a * b                 # Multiply each pair: 1×10, 2×20, 3×30, 4×40\n",
    "print(\"a =\", a)\n",
    "print(\"b =\", b)\n",
    "print(\"a * b =\", result)"
   ]
  },
  {
   "cell_type": "markdown",
   "id": "broadcasting-diff-shapes",
   "metadata": {},
   "source": [
    "## Broadcasting with Different Shapes\n",
    "\n",
    "### Example 1: Array + Single Number"
   ]
  },
  {
   "cell_type": "code",
   "execution_count": 2,
   "id": "array-plus-scalar",
   "metadata": {},
   "outputs": [
    {
     "name": "stdout",
     "output_type": "stream",
     "text": [
      "a = [1 2 3]\n",
      "a + 10 = [11 12 13]\n",
      "NumPy automatically 'broadcasts' the single number 10 to match the array shape!\n"
     ]
    }
   ],
   "source": [
    "a = np.array([1, 2, 3])\n",
    "result = a + 10        # Adds 10 to each element\n",
    "print(\"a =\", a)\n",
    "print(\"a + 10 =\", result)\n",
    "print(\"NumPy automatically 'broadcasts' the single number 10 to match the array shape!\")"
   ]
  },
  {
   "cell_type": "markdown",
   "id": "incompatible-shapes",
   "metadata": {},
   "source": [
    "### Example 2: When Shapes Don't Match"
   ]
  },
  {
   "cell_type": "code",
   "execution_count": 3,
   "id": "shape-error",
   "metadata": {},
   "outputs": [
    {
     "name": "stdout",
     "output_type": "stream",
     "text": [
      "a shape: (3,)\n",
      "b shape: (2,)\n",
      "These shapes are incompatible for broadcasting!\n"
     ]
    }
   ],
   "source": [
    "a = np.array([1, 2, 3])    # Shape: (3,)\n",
    "b = np.array([10, 20])     # Shape: (2,)\n",
    "\n",
    "print(\"a shape:\", a.shape)\n",
    "print(\"b shape:\", b.shape)\n",
    "print(\"These shapes are incompatible for broadcasting!\")\n",
    "\n",
    "# Uncomment the line below to see the error:\n",
    "#result = a + b  # Would give an error"
   ]
  },
  {
   "cell_type": "markdown",
   "id": "making-compatible",
   "metadata": {},
   "source": [
    "### Example 3: Making Shapes Compatible\n",
    "We can reshape arrays to make broadcasting work:"
   ]
  },
  {
   "cell_type": "code",
   "execution_count": 4,
   "id": "reshape-for-broadcasting",
   "metadata": {},
   "outputs": [
    {
     "name": "stdout",
     "output_type": "stream",
     "text": [
      "Original a shape: (3,)\n",
      "Reshaped a_column shape: (3, 1)\n",
      "b shape: (2,)\n",
      "\n",
      "a_column + b =\n",
      "[[11 21]\n",
      " [12 22]\n",
      " [13 23]]\n",
      "\n",
      "Explanation:\n",
      "Row 1: 1 + [10, 20] = [11, 21]\n",
      "Row 2: 2 + [10, 20] = [12, 22]\n",
      "Row 3: 3 + [10, 20] = [13, 23]\n"
     ]
    }
   ],
   "source": [
    "a = np.array([1, 2, 3])           # Shape: (3,)\n",
    "b = np.array([10, 20])            # Shape: (2,)\n",
    "\n",
    "# Reshape 'a' to be a column (3×1)\n",
    "a_column = a[:, np.newaxis]       # Shape: (3, 1)\n",
    "\n",
    "print(\"Original a shape:\", a.shape)\n",
    "print(\"Reshaped a_column shape:\", a_column.shape)\n",
    "print(\"b shape:\", b.shape)\n",
    "print()\n",
    "\n",
    "result = a_column + b             # Broadcasting works now!\n",
    "print(\"a_column + b =\")\n",
    "print(result)\n",
    "print()\n",
    "print(\"Explanation:\")\n",
    "print(\"Row 1: 1 + [10, 20] = [11, 21]\")\n",
    "print(\"Row 2: 2 + [10, 20] = [12, 22]\")\n",
    "print(\"Row 3: 3 + [10, 20] = [13, 23]\")"
   ]
  },
  {
   "cell_type": "markdown",
   "id": "array-shapes",
   "metadata": {},
   "source": [
    "## Understanding Array Shapes\n",
    "\n",
    "### Creating Different Shapes"
   ]
  },
  {
   "cell_type": "code",
   "execution_count": 5,
   "id": "different-shapes",
   "metadata": {},
   "outputs": [
    {
     "name": "stdout",
     "output_type": "stream",
     "text": [
      "Original array:\n",
      "[1 2 3]\n",
      "Shape: (3,)\n",
      "\n",
      "Column vector:\n",
      "[[1]\n",
      " [2]\n",
      " [3]]\n",
      "Shape: (3, 1)\n",
      "\n",
      "Row vector:\n",
      "[[1 2 3]]\n",
      "Shape: (1, 3)\n"
     ]
    }
   ],
   "source": [
    "arr = np.array([1, 2, 3])         # 1D array, shape: (3,)\n",
    "\n",
    "# Make it a column vector (3 rows, 1 column)\n",
    "column = arr[:, np.newaxis]       # Shape: (3, 1)\n",
    "\n",
    "# Make it a row vector (1 row, 3 columns)  \n",
    "row = arr[np.newaxis, :]          # Shape: (1, 3)\n",
    "\n",
    "print(\"Original array:\")\n",
    "print(arr)\n",
    "print(\"Shape:\", arr.shape)\n",
    "print()\n",
    "\n",
    "print(\"Column vector:\")\n",
    "print(column)\n",
    "print(\"Shape:\", column.shape)\n",
    "print()\n",
    "\n",
    "print(\"Row vector:\")\n",
    "print(row)\n",
    "print(\"Shape:\", row.shape)"
   ]
  },
  {
   "cell_type": "markdown",
   "id": "practical-example",
   "metadata": {},
   "source": [
    "## Practical Example\n",
    "Matrix + row vector (broadcasting happens automatically!)"
   ]
  },
  {
   "cell_type": "code",
   "execution_count": 6,
   "id": "matrix-broadcasting",
   "metadata": {},
   "outputs": [
    {
     "name": "stdout",
     "output_type": "stream",
     "text": [
      "Matrix:\n",
      "[[1 2]\n",
      " [3 4]\n",
      " [5 6]]\n",
      "Matrix shape: (3, 2)\n",
      "\n",
      "Row to add: [10 20]\n",
      "Row shape: (2,)\n",
      "\n",
      "Matrix + Row:\n",
      "[[11 22]\n",
      " [13 24]\n",
      " [15 26]]\n",
      "\n",
      "What happened:\n",
      "Row 1: [1,2] + [10,20] = [11,22]\n",
      "Row 2: [3,4] + [10,20] = [13,24]\n",
      "Row 3: [5,6] + [10,20] = [15,26]\n"
     ]
    }
   ],
   "source": [
    "# Matrix + row vector\n",
    "matrix = np.array([[1, 2],        # Shape: (3, 2)\n",
    "                   [3, 4],\n",
    "                   [5, 6]])\n",
    "\n",
    "row_to_add = np.array([10, 20])   # Shape: (2,)\n",
    "\n",
    "print(\"Matrix:\")\n",
    "print(matrix)\n",
    "print(\"Matrix shape:\", matrix.shape)\n",
    "print()\n",
    "\n",
    "print(\"Row to add:\", row_to_add)\n",
    "print(\"Row shape:\", row_to_add.shape)\n",
    "print()\n",
    "\n",
    "result = matrix + row_to_add      # Broadcasting works automatically!\n",
    "print(\"Matrix + Row:\")\n",
    "print(result)\n",
    "print()\n",
    "print(\"What happened:\")\n",
    "print(\"Row 1: [1,2] + [10,20] = [11,22]\")\n",
    "print(\"Row 2: [3,4] + [10,20] = [13,24]\")\n",
    "print(\"Row 3: [5,6] + [10,20] = [15,26]\")"
   ]
  },
  {
   "cell_type": "markdown",
   "id": "key-rules",
   "metadata": {},
   "source": [
    "## Key Rules for Broadcasting\n",
    "1. **Same shapes**: Operations work element by element\n",
    "2. **Different shapes**: NumPy tries to \"stretch\" the smaller array\n",
    "3. **Incompatible shapes**: Use `np.newaxis` to add dimensions\n",
    "4. **Scalars always work**: Single numbers broadcast to any array shape"
   ]
  },
  {
   "cell_type": "markdown",
   "id": "quick-tips",
   "metadata": {},
   "source": [
    "## Tips\n",
    "- [:, np.newaxis] makes a column vector (adds dimension on the right)\n",
    "- [np.newaxis, :] makes a row vector (adds dimension on the left)\n",
    "- Think of broadcasting as copying values to make arrays the same size\n",
    "- Start with simple examples and build up to more complex ones"
   ]
  },
  {
   "cell_type": "markdown",
   "id": "common-mistake",
   "metadata": {},
   "source": [
    "## Common Mistake to Avoid"
   ]
  },
  {
   "cell_type": "code",
   "execution_count": 7,
   "id": "mistake-demo",
   "metadata": {},
   "outputs": [
    {
     "name": "stdout",
     "output_type": "stream",
     "text": [
      "This would cause an error:\n",
      "a + b when a.shape = (3,) and b.shape = (2,)\n",
      "\n",
      "This works:\n",
      "a[:, np.newaxis] + b =\n",
      "[[11 21]\n",
      " [12 22]\n",
      " [13 23]]\n",
      "Shape of result: (3, 2)\n"
     ]
    }
   ],
   "source": [
    "# This won't work:\n",
    "a = np.array([1, 2, 3])     # Shape: (3,)\n",
    "b = np.array([10, 20])      # Shape: (2,)\n",
    "print(\"This would cause an error:\")\n",
    "print(\"a + b when a.shape =\", a.shape, \"and b.shape =\", b.shape)\n",
    "print()\n",
    "\n",
    "# This will work:\n",
    "result = a[:, np.newaxis] + b  # Makes a into shape (3,1), broadcasts to (3,2)\n",
    "print(\"This works:\")\n",
    "print(\"a[:, np.newaxis] + b =\")\n",
    "print(result)\n",
    "print(\"Shape of result:\", result.shape)"
   ]
  },
  {
   "cell_type": "markdown",
   "id": "1fbb8d0d",
   "metadata": {},
   "source": [
    "---\n",
    "## Brief Introduction to Numerical Integration with TRAPZ"
   ]
  },
  {
   "cell_type": "code",
   "execution_count": 8,
   "id": "d561cf75",
   "metadata": {},
   "outputs": [
    {
     "name": "stdout",
     "output_type": "stream",
     "text": [
      "int_result= 244.5\n",
      "10**3/3= 333.3333333333333\n"
     ]
    }
   ],
   "source": [
    "import numpy as np\n",
    "x = np.arange(0, 10)  # Creating an array of x values from 0 to 9\n",
    "y = x**2  # Computing y as the square of x (y = x^2)\n",
    "int_result = np.trapz(y, x)  # Using the trapezoidal rule to integrate y with respect to x\n",
    "print('int_result=', int_result) # Printing the integral\n",
    "print('10**3/3=', 10**3/3) # Printing the analytical solution"
   ]
  },
  {
   "cell_type": "code",
   "execution_count": 9,
   "id": "15fba3d1",
   "metadata": {},
   "outputs": [
    {
     "name": "stdout",
     "output_type": "stream",
     "text": [
      "int_result= 333.35033840084344\n",
      "10**3/3= 333.3333333333333\n"
     ]
    }
   ],
   "source": [
    "# Using more points for better accuracy\n",
    "x = np.linspace(0, 10, 100)  # Creating 100 evenly spaced x values from 0 to 10\n",
    "y = x**2  # Recomputing y as the square of x\n",
    "int_result = np.trapz(y, x)  # Performing trapezoidal integration again\n",
    "print('int_result=', int_result) # Printing the integral\n",
    "print('10**3/3=', 10**3/3) # Printing the analytical solution"
   ]
  }
 ],
 "metadata": {
  "kernelspec": {
   "display_name": "Python 3 (ipykernel)",
   "language": "python",
   "name": "python3"
  },
  "language_info": {
   "codemirror_mode": {
    "name": "ipython",
    "version": 3
   },
   "file_extension": ".py",
   "mimetype": "text/x-python",
   "name": "python",
   "nbconvert_exporter": "python",
   "pygments_lexer": "ipython3",
   "version": "3.10.14"
  }
 },
 "nbformat": 4,
 "nbformat_minor": 5
}
